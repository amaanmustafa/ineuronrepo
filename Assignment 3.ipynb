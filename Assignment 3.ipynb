{
 "cells": [
  {
   "cell_type": "markdown",
   "id": "90041b03-86fb-45d5-a218-64d54944f27b",
   "metadata": {},
   "source": [
    "1. Why are functions advantageous to have in your programs?"
   ]
  },
  {
   "cell_type": "markdown",
   "id": "2de682e8-b6eb-483a-b4e3-e5917cf37852",
   "metadata": {},
   "source": [
    "Functions are advantageous because of the following reasons-\n",
    "\n",
    "a) Reusability\n",
    "b) Modularity\n",
    "c) Abstraction\n",
    "d) Code Maintenance and Debugging\n",
    "e) Code Readability\n",
    "f) Code Organization and Structure\n",
    "g) Code Reusability\n",
    "\n",
    "Overall, functions promote code reuse, modularity, and readability, making your code more organized, maintainable, and scalable. They improve the overall structure of your programs and help manage complexity effectively."
   ]
  },
  {
   "cell_type": "markdown",
   "id": "bbabae36-1217-4765-85bb-eb0b70f39519",
   "metadata": {},
   "source": [
    "2. When does the code in a function run: when it's specified or when it's called?"
   ]
  },
  {
   "cell_type": "code",
   "execution_count": 1,
   "id": "8875f313-3cd5-4cab-aecb-20d9a33efd9f",
   "metadata": {},
   "outputs": [
    {
     "name": "stdout",
     "output_type": "stream",
     "text": [
      "Hello, World!\n"
     ]
    }
   ],
   "source": [
    "# The code in a function runs when the function is called, not when it is specified or defined.\n",
    "\n",
    "def greet():\n",
    "    print(\"Hello, World!\") #Function definition is specified, but code inside the function is not executed yet\n",
    "    \n",
    "greet() #Function call\n"
   ]
  },
  {
   "cell_type": "markdown",
   "id": "060db1b9-1c5e-425d-9e83-5b73cb91acd6",
   "metadata": {},
   "source": [
    "3. What statement creates a function?"
   ]
  },
  {
   "cell_type": "code",
   "execution_count": null,
   "id": "e18f4c1c-dee9-45a9-a8d6-3c5b83ce3b29",
   "metadata": {},
   "outputs": [],
   "source": [
    "In Python, the def statement is used to create or define a function. \n",
    "The def statement is followed by the name of the function, parentheses (), and a colon : \n",
    "Any code block indented under the def statement is considered part of the function."
   ]
  },
  {
   "cell_type": "markdown",
   "id": "f4977dea-7909-4569-8d03-731ef88e649a",
   "metadata": {},
   "source": [
    "4. What is the difference between a function and a function call?"
   ]
  },
  {
   "cell_type": "code",
   "execution_count": null,
   "id": "d94c1a0a-9f94-462d-995a-dfe0821e4225",
   "metadata": {},
   "outputs": [],
   "source": [
    "Function:\n",
    "\n",
    "A function is a block of reusable code that performs a specific task or a set of related tasks.\n",
    "It is defined using the def statement in Python and given a name to identify it.\n",
    "Functions can have parameters (optional) that allow them to accept inputs from outside the function.\n",
    "\n",
    "Function Call:\n",
    "\n",
    "A function call is the actual execution or invocation of a function in a program.\n",
    "It is the statement that triggers the function to run and perform its specified tasks.\n",
    "When a function is called, the program flow transfers to the function code block, and the code inside the function is executed."
   ]
  },
  {
   "cell_type": "markdown",
   "id": "22810c44-6d4a-4aeb-a139-fe4365091d49",
   "metadata": {},
   "source": [
    "5. How many global scopes are there in a Python program? How many local scopes?"
   ]
  },
  {
   "cell_type": "code",
   "execution_count": null,
   "id": "1033b757-778a-43ea-ad5f-48beded2800a",
   "metadata": {},
   "outputs": [],
   "source": [
    "#Global Scope:\n",
    "\n",
    "The global scope refers to the top-level scope of a program or module.\n",
    "There is only one global scope per program or module.\n",
    "Variables defined in the global scope are accessible throughout the program or module, including inside functions and other scopes.\n",
    "Global variables can be accessed and modified from anywhere within the program.\n",
    "\n",
    "#Local Scope:\n",
    "\n",
    "Local scopes are created whenever a function is called or when a block of code (such as a loop or conditional statement) is executed.\n",
    "Each function call or block execution creates its own local scope.\n",
    "Local variables defined within a function or block are only accessible within that specific function or block."
   ]
  },
  {
   "cell_type": "markdown",
   "id": "c79f27f2-ae1a-46ad-9338-964cedc4ef36",
   "metadata": {},
   "source": [
    "6. What happens to variables in a local scope when the function call returns?"
   ]
  },
  {
   "cell_type": "code",
   "execution_count": null,
   "id": "4adb5661-05e0-4c2a-ae11-cd214bb1bb79",
   "metadata": {},
   "outputs": [],
   "source": [
    "When a function call returns in Python, the local variables within that function's local scope are destroyed, and their values are no longer accessible. This process is known as variable cleanup or garbage collection.\n",
    "\n",
    "Here's what happens to variables in a local scope when a function call returns:\n",
    "\n",
    "a) Variable Lifetime: The lifetime of local variables is tied to the execution of the function. When a function call is made, the local variables are created and initialized. They exist as long as the function is executing and are accessible within the function's scope.\n",
    "\n",
    "b) Variable Destruction: When the function call returns, the local variables within that function's local scope are destroyed. This means that the memory allocated for those variables is released, and the variables cease to exist. They cannot be accessed or referenced outside of the function's scope.\n",
    "\n",
    "c) Memory Reclamation: Python's garbage collector automatically reclaims the memory occupied by the local variables that are no longer in use. The garbage collector identifies variables that have gone out of scope and frees up the associated memory for future use."
   ]
  },
  {
   "cell_type": "markdown",
   "id": "c52d484c-54ad-4729-963b-e78cd4cf68fe",
   "metadata": {},
   "source": [
    "7. What is the concept of a return value? Is it possible to have a return value in an expression?"
   ]
  },
  {
   "cell_type": "code",
   "execution_count": null,
   "id": "5eb9f6ac-f09e-4552-9123-e6188eacbe67",
   "metadata": {},
   "outputs": [],
   "source": [
    "The concept of a return value in Python refers to the value that a function can send back to the code that called it. When a function is executed and reaches a return statement, it terminates the function's execution and sends a value (or None if no value is specified) back to the caller.\n",
    "\n",
    "Here are some key points about return values:\n",
    "\n",
    "a) Returning a Value: A function can return a single value or an object of any data type. The value being returned can be a result of a computation, a processed data structure, or any other desired output.\n",
    "\n",
    "b) return Statement: The return statement is used to specify the value to be returned. It is typically followed by an expression or variable that evaluates to the desired value. Once a return statement is encountered, the function immediately exits, and the specified value is passed back to the caller.\n",
    "\n",
    "c) Passing Data to the Caller: The return value allows the function to pass data or results back to the part of the program that made the function call. The caller can capture the return value and use it for further processing, assign it to a variable, or utilize it in any other desired \n",
    "\n",
    "No, it is not possible to have a return value in an expression. The return value of a function is distinct from expressions and cannot be directly used as part of an expression.\n",
    "When a function is called and it reaches a return statement, the function terminates and returns the specified value to the caller. This returned value can be assigned to a variable or used independently in subsequent code."
   ]
  },
  {
   "cell_type": "markdown",
   "id": "9d4160ab-649f-4cea-9c68-9ad3b4a2f966",
   "metadata": {},
   "source": [
    "8. If a function does not have a return statement, what is the return value of a call to that function?"
   ]
  },
  {
   "cell_type": "code",
   "execution_count": 2,
   "id": "0d8c31a7-4fe1-4bf9-9c0a-cc53e5332cc6",
   "metadata": {},
   "outputs": [
    {
     "name": "stdout",
     "output_type": "stream",
     "text": [
      "Hello, world!\n",
      "None\n"
     ]
    }
   ],
   "source": [
    "def greet():\n",
    "    print(\"Hello, world!\")\n",
    "\n",
    "result = greet()\n",
    "print(result)\n",
    "\n",
    "#So here because of the absence of return statement, the output is None"
   ]
  },
  {
   "cell_type": "markdown",
   "id": "1a6b6159-d2bf-4bfd-98d9-d901e2275a0e",
   "metadata": {},
   "source": [
    "9. How do you make a function variable refer to the global variable?"
   ]
  },
  {
   "cell_type": "code",
   "execution_count": 3,
   "id": "713bf145-22db-49e7-a41c-d65da472f22a",
   "metadata": {},
   "outputs": [
    {
     "name": "stdout",
     "output_type": "stream",
     "text": [
      "10\n",
      "20\n"
     ]
    }
   ],
   "source": [
    "#In Python, if you want to make a function variable refer to a global variable, you can use the global keyword within the function. \n",
    "#This allows you to indicate that a particular variable should be treated as a global variable instead of a local variable within the function's scope.\n",
    "\n",
    "#example-\n",
    "\n",
    "global_var = 10\n",
    "\n",
    "def update_global():\n",
    "    global global_var\n",
    "    global_var = 20\n",
    "\n",
    "print(global_var)  # Output: 10\n",
    "update_global()\n",
    "print(global_var)  # Output: 20"
   ]
  },
  {
   "cell_type": "markdown",
   "id": "ede4d7df-7265-4dc6-8d9d-7b1a6628ed41",
   "metadata": {},
   "source": [
    "10. What is the data type of None?"
   ]
  },
  {
   "cell_type": "code",
   "execution_count": 4,
   "id": "0d6e5cd5-4553-47a8-b1d0-652831395bf1",
   "metadata": {},
   "outputs": [
    {
     "name": "stdout",
     "output_type": "stream",
     "text": [
      "<class 'NoneType'>\n"
     ]
    }
   ],
   "source": [
    "# The data type of None in Python is called NoneType.\n",
    "\n",
    "value = None\n",
    "\n",
    "print(type(value))  # Output: <class 'NoneType'>"
   ]
  },
  {
   "cell_type": "markdown",
   "id": "ab69a32d-e48e-4768-aa51-70c1cd285046",
   "metadata": {},
   "source": [
    "11. What does the sentence import areallyourpetsnamederic do?"
   ]
  },
  {
   "cell_type": "code",
   "execution_count": null,
   "id": "ba99b06d-2cfa-4826-8115-e886e2c45f50",
   "metadata": {},
   "outputs": [],
   "source": [
    "The sentence import areallyourpetsnamederic does not have any inherent meaning or purpose in Python. \n",
    "It is an example of an import statement that attempts to import a module named areallyourpetsnamederic."
   ]
  },
  {
   "cell_type": "markdown",
   "id": "c1372888-23c5-40fc-91f7-5d5041c5a5d3",
   "metadata": {},
   "source": [
    "12. If you had a bacon() feature in a spam module, what would you call it after importing spam?"
   ]
  },
  {
   "cell_type": "code",
   "execution_count": null,
   "id": "a6b34a29-e83b-44b8-8239-326bd0447724",
   "metadata": {},
   "outputs": [],
   "source": [
    "If I have a function named bacon() within a module named spam, you can call it after importing the spam module using the dot notation.\n",
    "\n",
    "import spam\n",
    "\n",
    "spam.bacon()"
   ]
  },
  {
   "cell_type": "markdown",
   "id": "393a5e02-b725-421e-bc65-19a619967a2c",
   "metadata": {},
   "source": [
    "13. What can you do to save a programme from crashing if it encounters an error?"
   ]
  },
  {
   "cell_type": "code",
   "execution_count": null,
   "id": "08b3c39a-45cc-465c-9a50-a10bbd2d3615",
   "metadata": {},
   "outputs": [],
   "source": [
    "In Python, you can use the try-except statement to implement error handling. \n",
    "The try block contains the code that might raise an error, and the except block specifies the code to be executed if an error occurs within the try block.\n",
    "\n",
    "try:\n",
    "    # Code that might raise an error\n",
    "    # ...\n",
    "except ExceptionType:\n",
    "    # Code to handle the specific type of exception\n",
    "    # ..."
   ]
  },
  {
   "cell_type": "markdown",
   "id": "a0e6d344-2696-4104-adc2-6ee0a61c764c",
   "metadata": {},
   "source": [
    "14. What is the purpose of the try clause? What is the purpose of the except clause?"
   ]
  },
  {
   "cell_type": "code",
   "execution_count": null,
   "id": "8b75bc2f-e856-4a19-9ff8-04abd3e74e4d",
   "metadata": {},
   "outputs": [],
   "source": []
  }
 ],
 "metadata": {
  "kernelspec": {
   "display_name": "Python 3 (ipykernel)",
   "language": "python",
   "name": "python3"
  },
  "language_info": {
   "codemirror_mode": {
    "name": "ipython",
    "version": 3
   },
   "file_extension": ".py",
   "mimetype": "text/x-python",
   "name": "python",
   "nbconvert_exporter": "python",
   "pygments_lexer": "ipython3",
   "version": "3.10.6"
  }
 },
 "nbformat": 4,
 "nbformat_minor": 5
}
