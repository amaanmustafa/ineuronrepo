{
 "cells": [
  {
   "cell_type": "markdown",
   "id": "6f28b866-3ebb-4064-8b0e-5e5c97418e5f",
   "metadata": {},
   "source": [
    "1. What are the two values of the Boolean data type? How do you write them?"
   ]
  },
  {
   "cell_type": "code",
   "execution_count": null,
   "id": "40c44c17-2ca6-460f-a268-e758efb7c92d",
   "metadata": {},
   "outputs": [],
   "source": [
    "#In Python, the two values of the Boolean data type are True and False. They are used to represent logical states of 'True' and 'False', respectively. These values are keywords in Python and are written with the first letter capitalized.\n",
    "\n",
    "# print(x)  # Output: True\n",
    "# print(y)  # Output: False\n",
    "\n",
    "# Boolean operations\n",
    "\n",
    "#print(x and y)  # Output: False\n",
    "#print(x or y)   # Output: True\n",
    "#print(not x)    # Output: False\n",
    "\n"
   ]
  },
  {
   "cell_type": "markdown",
   "id": "8a3f183e-502b-4e7e-b164-4f6bdd645bf3",
   "metadata": {},
   "source": [
    "2. What are the three different types of Boolean operators?"
   ]
  },
  {
   "cell_type": "code",
   "execution_count": null,
   "id": "8a09d6d6-9c5b-4e00-a516-8dea4f101023",
   "metadata": {},
   "outputs": [],
   "source": [
    "# and: The and operator returns True if both operands (values or expressions) are True, and False otherwise. It evaluates the operands from left to right and stops as soon as a False value is encountered. If all operands are True, the last operand's value is returned.\n",
    "\n",
    "# or: The or operator returns True if at least one of the operands is True, and False otherwise. It evaluates the operands from left to right and stops as soon as a True value is encountered. If all operands are False, the last operand's value is returned.\n",
    "\n",
    "# not: The not operator is a unary operator that negates the Boolean value of its operand. It returns True if the operand is False, and False if the operand is True. It essentially flips the Boolean value."
   ]
  },
  {
   "cell_type": "markdown",
   "id": "31fb30f2-0e07-4aa2-9bb7-22da9d0c1950",
   "metadata": {},
   "source": [
    "3. Make a list of each Boolean operator's truth tables (i.e. every possible combination of Boolean\n",
    "   values for the operator and what it evaluate ).\n"
   ]
  },
  {
   "cell_type": "code",
   "execution_count": null,
   "id": "d98c13ca-ea69-422b-89e8-8b7e7c880500",
   "metadata": {},
   "outputs": [],
   "source": [
    "#and operator truth table:\n",
    "\n",
    "Operand 1\tOperand 2\tResult\n",
    "False\t    False\t    False\n",
    "False\t    True\t    False\n",
    "True\t    False\t    False\n",
    "True\t    True\t    True\n",
    "\n",
    "or operator truth table:\n",
    "\n",
    "Operand 1\tOperand 2\tResult\n",
    "False\t    False\t    False\n",
    "False\t    True\t    True\n",
    "True\t    False\t    True\n",
    "True\t    True\t    True\n",
    "\n",
    "not operator truth table:\n",
    "\n",
    "Operand\tResult\n",
    "False\tTrue\n",
    "True\tFalse"
   ]
  },
  {
   "cell_type": "code",
   "execution_count": null,
   "id": "039730f7-8f86-494a-905f-284ed7484593",
   "metadata": {},
   "outputs": [],
   "source": [
    "4. What are the values of the following expressions?\n",
    "\n",
    "(5 > 4) and (3 == 5)\n",
    "not (5 > 4)\n",
    "(5 > 4) or (3 == 5)\n",
    "not ((5 > 4) or (3 == 5))\n",
    "(True and True) and (True == False)\n",
    "(not False) or (not True)"
   ]
  },
  {
   "cell_type": "code",
   "execution_count": 1,
   "id": "8cf17fa9-7cfb-4997-9c86-977edba8dd38",
   "metadata": {},
   "outputs": [
    {
     "name": "stdout",
     "output_type": "stream",
     "text": [
      "False\n"
     ]
    }
   ],
   "source": [
    "print((5 > 4) and (3 == 5))"
   ]
  },
  {
   "cell_type": "code",
   "execution_count": 2,
   "id": "2816ddbd-6a15-463e-8637-8ef22ff0fecc",
   "metadata": {},
   "outputs": [
    {
     "name": "stdout",
     "output_type": "stream",
     "text": [
      "False\n"
     ]
    }
   ],
   "source": [
    "print(not (5 > 4))"
   ]
  },
  {
   "cell_type": "code",
   "execution_count": 3,
   "id": "7196754c-44aa-4314-99fc-2063feb9f866",
   "metadata": {},
   "outputs": [
    {
     "name": "stdout",
     "output_type": "stream",
     "text": [
      "True\n"
     ]
    }
   ],
   "source": [
    "print((5 > 4) or (3 == 5))"
   ]
  },
  {
   "cell_type": "code",
   "execution_count": 4,
   "id": "ceef3ca1-4d6a-4577-94f6-2a78bcbed6cb",
   "metadata": {},
   "outputs": [
    {
     "name": "stdout",
     "output_type": "stream",
     "text": [
      "False\n"
     ]
    }
   ],
   "source": [
    "print((True and True) and (True == False))"
   ]
  },
  {
   "cell_type": "code",
   "execution_count": 5,
   "id": "46f32bdf-08a8-45f2-b0e4-8c64aae47cd9",
   "metadata": {},
   "outputs": [
    {
     "name": "stdout",
     "output_type": "stream",
     "text": [
      "True\n"
     ]
    }
   ],
   "source": [
    "print((not False) or (not True))"
   ]
  },
  {
   "cell_type": "markdown",
   "id": "25e4ff18-b67d-425c-965e-b367ab9bf11c",
   "metadata": {},
   "source": [
    "5. What are the six comparison operators?"
   ]
  },
  {
   "cell_type": "code",
   "execution_count": null,
   "id": "7d02229e-be5f-4bcb-a612-947f12446f25",
   "metadata": {},
   "outputs": [],
   "source": [
    "In Python, there are six comparison operators used to compare values. These operators return Boolean values (True or False) based on the comparison result. Here are the six comparison operators:\n",
    "\n",
    "== (equals)\n",
    "=! (not equals)\n",
    "> (greater than)\n",
    "< (less than)\n",
    ">= (greater than/euals)\n",
    "<= (less than/equals)"
   ]
  },
  {
   "cell_type": "markdown",
   "id": "22b509c7-5aab-4d88-b670-fc14a74cae96",
   "metadata": {},
   "source": [
    "6. How do you tell the difference between the equal to and assignment operators?Describe a\n",
    "   condition and when you would use one."
   ]
  },
  {
   "cell_type": "markdown",
   "id": "7fdc2b79-31ca-4660-b93d-8f63415408b3",
   "metadata": {},
   "source": [
    "In Python, the equal to operator (==) is used for comparison, while the assignment operator (=) is used for variable assignment. The equal to operator (==) compares the values on both sides of the operator and returns True if they are equal, and False otherwise. It is commonly used in conditional statements, such as if statements or while loops, to make decisions based on the comparison result.\n",
    "\n",
    "example-"
   ]
  },
  {
   "cell_type": "code",
   "execution_count": 6,
   "id": "036ff87c-5384-43cf-a325-eec8f4e9a123",
   "metadata": {},
   "outputs": [
    {
     "name": "stdout",
     "output_type": "stream",
     "text": [
      "x is not equal to y\n"
     ]
    }
   ],
   "source": [
    "x = 5\n",
    "y = 10\n",
    "\n",
    "if x == y:\n",
    "    print(\"x is equal to y\")\n",
    "else:\n",
    "    print(\"x is not equal to y\")"
   ]
  },
  {
   "cell_type": "markdown",
   "id": "6602e076-394d-4137-91f1-5eb7959a08b6",
   "metadata": {},
   "source": [
    "On the other hand, the assignment operator (=) is used to assign a value to a variable. It takes the value on the right side and assigns it to the variable on the left side.\n",
    "\n",
    "example-"
   ]
  },
  {
   "cell_type": "code",
   "execution_count": 7,
   "id": "68d99cf9-4d2c-44c5-a748-49919803356b",
   "metadata": {},
   "outputs": [
    {
     "name": "stdout",
     "output_type": "stream",
     "text": [
      "apple\n"
     ]
    }
   ],
   "source": [
    "x = 'apple'\n",
    "print(x)"
   ]
  },
  {
   "cell_type": "markdown",
   "id": "4da99ac5-abc2-4a97-8aa9-1c3cfbc30e9b",
   "metadata": {},
   "source": [
    "7. Identify the three blocks in this code:\n",
    "\n",
    "spam = 0\n",
    "if spam == 10:\n",
    "print('eggs')\n",
    "if spam > 5:\n",
    "print('bacon')\n",
    "else:\n",
    "print('ham')\n",
    "print('spam')\n",
    "print('spam')"
   ]
  },
  {
   "cell_type": "code",
   "execution_count": 8,
   "id": "3a62b361-3ce6-4e51-a35c-311c3ceb77ac",
   "metadata": {},
   "outputs": [
    {
     "name": "stdout",
     "output_type": "stream",
     "text": [
      "ham\n",
      "spam\n",
      "spam\n"
     ]
    }
   ],
   "source": [
    "spam = 0\n",
    "\n",
    "if spam == 10:\n",
    "    print('eggs')  #Block 1\n",
    "    \n",
    "if spam > 5:\n",
    "    print('bacon') #Block 2\n",
    "    \n",
    "else:\n",
    "    print('ham')\n",
    "    print('spam')\n",
    "    print('spam')  #Block 3\n",
    "    \n",
    "# So above are the 3 defined blocks and below is the output"
   ]
  },
  {
   "cell_type": "markdown",
   "id": "b8a3d0b2-2a9b-4431-b232-0f7687cb9a19",
   "metadata": {},
   "source": [
    "8. Write code that prints Hello if 1 is stored in spam, prints Howdy if 2 is stored in spam, and prints\n",
    "   Greetings! if anything else is stored in spam."
   ]
  },
  {
   "cell_type": "code",
   "execution_count": 9,
   "id": "4d520f2f-5a4c-4ad8-a7aa-fc37924285d1",
   "metadata": {},
   "outputs": [
    {
     "name": "stdout",
     "output_type": "stream",
     "text": [
      "Hello\n"
     ]
    }
   ],
   "source": [
    "spam = 1\n",
    "\n",
    "if spam == 1:\n",
    "    print('Hello')\n",
    "elif spam == 2:\n",
    "    print('Howdy')\n",
    "else:\n",
    "    print('Greetings!')"
   ]
  },
  {
   "cell_type": "markdown",
   "id": "491f8b97-51d3-4008-b135-f646c5174411",
   "metadata": {},
   "source": [
    "9. If your programme is stuck in an endless loop, what keys you’ll press?"
   ]
  },
  {
   "cell_type": "markdown",
   "id": "37b7b190-9a44-468d-88ef-83629132c656",
   "metadata": {},
   "source": [
    "On most systems:\n",
    "\n",
    "Press Ctrl + C on Windows or Linux.\n",
    "Press Command + C on macOS."
   ]
  },
  {
   "cell_type": "markdown",
   "id": "be1a12ee-4213-4bad-a98b-d8f3d470b30b",
   "metadata": {},
   "source": [
    "10. How can you tell the difference between break and continue?"
   ]
  },
  {
   "cell_type": "code",
   "execution_count": 10,
   "id": "b9a984aa-f98a-45ed-b671-3e57368a22b9",
   "metadata": {},
   "outputs": [
    {
     "name": "stdout",
     "output_type": "stream",
     "text": [
      "0\n",
      "1\n",
      "2\n"
     ]
    }
   ],
   "source": [
    "# break statement:\n",
    "# When encountered inside a loop, the break statement immediately terminates the loop execution and exits the loop entirely.\n",
    "# In below example, the loop will print the numbers 0, 1, and 2. When i becomes 3, the break statement is encountered, and the loop is terminated.\n",
    "\n",
    "for i in range(5):\n",
    "    if i == 3:\n",
    "        break\n",
    "    print(i)"
   ]
  },
  {
   "cell_type": "code",
   "execution_count": 11,
   "id": "3039d3ed-5574-4db0-a379-27b718ad79ec",
   "metadata": {},
   "outputs": [
    {
     "name": "stdout",
     "output_type": "stream",
     "text": [
      "0\n",
      "1\n",
      "3\n",
      "4\n"
     ]
    }
   ],
   "source": [
    "# continue statement:\n",
    "# When encountered inside a loop, the continue statement immediately ends the current iteration of the loop and moves to the next iteration.\n",
    "# In this example, the loop will print the numbers 0, 1, 3, and 4. When i becomes 2, the continue statement is encountered, and the remaining statements in that iteration (i.e., the print statement) are skipped, and the next iteration begins.\n",
    "\n",
    "for i in range(5):\n",
    "    if i == 2:\n",
    "        continue\n",
    "    print(i)"
   ]
  },
  {
   "cell_type": "markdown",
   "id": "81ad99f0-f77d-44ae-97a1-da6489406312",
   "metadata": {},
   "source": [
    "11. In a for loop, what is the difference between range(10), range(0, 10), and range(0, 10, 1)?"
   ]
  },
  {
   "cell_type": "code",
   "execution_count": 12,
   "id": "ac9fae14-3422-420b-bea3-06d3aa51b09e",
   "metadata": {},
   "outputs": [
    {
     "name": "stdout",
     "output_type": "stream",
     "text": [
      "0\n",
      "1\n",
      "2\n",
      "3\n",
      "4\n",
      "5\n",
      "6\n",
      "7\n",
      "8\n",
      "9\n"
     ]
    }
   ],
   "source": [
    "# range(10):\n",
    "# This form of range starts from the default value of 0 and ends at 10 (exclusive).\n",
    "# In the context of a for loop, it will iterate 10 times, with the loop variable taking values from 0 to 9.\n",
    "\n",
    "for i in range(10):\n",
    "    print(i)"
   ]
  },
  {
   "cell_type": "code",
   "execution_count": 13,
   "id": "1f5e608e-55b4-4473-ab2d-60b25a0ca967",
   "metadata": {},
   "outputs": [
    {
     "name": "stdout",
     "output_type": "stream",
     "text": [
      "0\n",
      "1\n",
      "2\n",
      "3\n",
      "4\n",
      "5\n",
      "6\n",
      "7\n",
      "8\n",
      "9\n"
     ]
    }
   ],
   "source": [
    "# range(0, 10):\n",
    "# This form of range explicitly specifies the starting point as 0 and the ending point as 10 (exclusive).\n",
    "\n",
    "for i in range(0, 10):\n",
    "    print(i)"
   ]
  },
  {
   "cell_type": "code",
   "execution_count": 14,
   "id": "541b470d-69b6-4d4e-badb-fa9c8cd02ccb",
   "metadata": {},
   "outputs": [
    {
     "name": "stdout",
     "output_type": "stream",
     "text": [
      "0\n",
      "1\n",
      "2\n",
      "3\n",
      "4\n",
      "5\n",
      "6\n",
      "7\n",
      "8\n",
      "9\n"
     ]
    }
   ],
   "source": [
    "# range(0, 10, 1):\n",
    "# This form of range explicitly specifies the starting point as 0, the ending point as 10 (exclusive), and the step size as 1.\n",
    "\n",
    "for i in range(0, 10, 1):\n",
    "    print(i)"
   ]
  },
  {
   "cell_type": "markdown",
   "id": "ad0e313d-36f0-41f4-b0f0-3a455a9ea702",
   "metadata": {},
   "source": [
    "12. Write a short program that prints the numbers 1 to 10 using a for loop. Then write an equivalent\n",
    "    program that prints the numbers 1 to 10 using a while loop."
   ]
  },
  {
   "cell_type": "code",
   "execution_count": 15,
   "id": "153ee759-1e80-4295-a570-1ef4dc6b0726",
   "metadata": {},
   "outputs": [
    {
     "name": "stdout",
     "output_type": "stream",
     "text": [
      "1\n",
      "2\n",
      "3\n",
      "4\n",
      "5\n",
      "6\n",
      "7\n",
      "8\n",
      "9\n"
     ]
    }
   ],
   "source": [
    "for i in range(1, 10):\n",
    "    print(i)\n",
    "        "
   ]
  },
  {
   "cell_type": "code",
   "execution_count": 16,
   "id": "18feee83-f327-4338-9d50-e029895caea2",
   "metadata": {},
   "outputs": [
    {
     "name": "stdout",
     "output_type": "stream",
     "text": [
      "1\n",
      "2\n",
      "3\n",
      "4\n",
      "5\n",
      "6\n",
      "7\n",
      "8\n",
      "9\n",
      "10\n"
     ]
    }
   ],
   "source": [
    "num = 1\n",
    "\n",
    "while num <= 10:\n",
    "    print(num)\n",
    "    num += 1"
   ]
  },
  {
   "cell_type": "markdown",
   "id": "7b83695a-7c71-4f66-bcf9-ba633c6eff16",
   "metadata": {},
   "source": [
    "13. If you had a function named bacon() inside a module named spam, how would you call it after\n",
    "    importing spam?"
   ]
  },
  {
   "cell_type": "code",
   "execution_count": null,
   "id": "590f3c82-f2ce-470b-8175-be690c642a89",
   "metadata": {},
   "outputs": [],
   "source": [
    "# After importing the module named \"spam,\" you can call the function named \"bacon()\" using the following syntax:\n",
    "\n",
    "import spam\n",
    "\n",
    "spam.bacon()"
   ]
  }
 ],
 "metadata": {
  "kernelspec": {
   "display_name": "Python 3 (ipykernel)",
   "language": "python",
   "name": "python3"
  },
  "language_info": {
   "codemirror_mode": {
    "name": "ipython",
    "version": 3
   },
   "file_extension": ".py",
   "mimetype": "text/x-python",
   "name": "python",
   "nbconvert_exporter": "python",
   "pygments_lexer": "ipython3",
   "version": "3.10.6"
  }
 },
 "nbformat": 4,
 "nbformat_minor": 5
}
