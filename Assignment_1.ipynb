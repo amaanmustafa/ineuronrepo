{
 "cells": [
  {
   "cell_type": "markdown",
   "id": "ef97b64a-5b4f-45d2-b376-9e4d08417501",
   "metadata": {},
   "source": [
    "1. In the below elements which of them are values or an expression? eg:- values can be\n",
    "integer or string and expressions will be mathematical operators.\n",
    "\n",
    "*\n",
    "\n",
    "'hello'\n",
    "\n",
    "-87.8\n",
    "\n",
    "-\n",
    "\n",
    "/\n",
    "\n",
    "+"
   ]
  },
  {
   "cell_type": "markdown",
   "id": "e322dd1b-f398-4ee5-842b-bed0f71895e2",
   "metadata": {},
   "source": [
    "* -> It is an expression\n",
    "\n",
    "'hello' -> it is a value\n",
    "\n",
    "-87.8 -> it is a value\n",
    "\n",
    "- -> it is an expression\n",
    "\n",
    "/ -> it is an expression\n",
    "\n",
    "+ -> it is an expression"
   ]
  },
  {
   "cell_type": "markdown",
   "id": "8e0b0aad-b7ab-4e03-8223-1f5649db135c",
   "metadata": {},
   "source": [
    "2. What is the difference between string and variable?\n",
    "\n",
    "*) String: A string is a data type that represents a sequence of characters enclosed in quotation marks. It can be used to store and manipulate   textual data. For example- my_string = \"Hello, world!\"\n",
    "Here, \"Hello, world!\" is a string.\n",
    "\n",
    "*) Variable: A variable is a name which acts like a container that represents a value stored in the computer's memory. It can be used to store and refer to different types of data, including strings. Variables provide a way to store and retrieve data during the execution of a program. For example: my_variable = 89\n",
    "Here, my_variable is a variable that holds the value 42."
   ]
  },
  {
   "cell_type": "markdown",
   "id": "7cc46226-7e09-4f0f-b888-d18cc21a99f2",
   "metadata": {},
   "source": [
    "3. Describe three different data types.\n",
    "\n",
    "*) Integer(int): The integer data type represents whole numbers without any fractional or decimal component. For example: 5, -10, 0. Integers can be used for arithmetic operations such as addition, subtraction, multiplication, and division.\n",
    "\n",
    "*) String(str): The string data type represents a sequence of characters. Strings are enclosed in either single quotes (') or double quotes (\"). For example: 'Hello', \"Python\", \"123\". Strings can be concatenated, sliced, and manipulated using various string methods. They are commonly used to store and work with textual data.\n",
    "\n",
    "*) Boolean(bool): The boolean data type represents one of two values: True or False. Booleans are often used in conditional statements and logical operations. They are useful for evaluating conditions and making decisions in a program. For example: True, False. By default True=1 and False=0.\n",
    "\n"
   ]
  },
  {
   "cell_type": "markdown",
   "id": "32e046d9-5df3-40eb-8ed3-e0744dbd2f34",
   "metadata": {},
   "source": [
    "4. What is an expression made up of? What do all expressions do?\n",
    "\n",
    "In Python, an expression is made up of one or more operators, operands, and variables, combined in a specific way to produce a value. An expression can consist of literals (constant values), variables, and function calls, as well as operators that perform operations on the operands.\n",
    "\n",
    "In Python, there are various types of expressions that can be used to perform different operations and computations. Here are some examples of different types of expressions in Python:\n",
    "\n",
    "*) Arithmetic Expressions: These expressions involve arithmetic operators to perform mathematical calculations. Examples include addition (+), subtraction (-), multiplication (*), division (/), and modulus (%).\n",
    "\n",
    "*) Comparison Expressions: These expressions compare two values and return a Boolean result (True or False). Examples include equality (==), inequality (!=), greater than (>), less than (<), greater than or equal to (>=), and less than or equal to (<=).\n",
    "\n",
    "*) Logical Expressions: These expressions involve logical operators to evaluate conditions and return a Boolean result. Examples include logical AND (and), logical OR (or), and logical NOT (not)."
   ]
  },
  {
   "cell_type": "markdown",
   "id": "3b35708e-910f-4299-ae2b-d01e59ce8e9c",
   "metadata": {},
   "source": [
    "5. This assignment statements, like spam = 10. What is the difference between an expression and a statement?\n",
    "\n",
    "In the above example, spam = 10 is an assignment statement that assigns the value 10 to the variable spam. This statement changes the state of the program by storing a value in a variable.\n",
    "Expressions are used to compute values, while Statements are used to perform actions, control the program flow, and modify the program's state. Expressions can be part of Statements, such as the right side of an assignment statement, where the expression's value is assigned to a variable."
   ]
  },
  {
   "cell_type": "markdown",
   "id": "3209457f-9811-4129-a513-466aec1baa67",
   "metadata": {},
   "source": [
    "6. After running the following code, what does the variable bacon contain?\n",
    "bacon = 22\n",
    "bacon + 1"
   ]
  },
  {
   "cell_type": "code",
   "execution_count": 1,
   "id": "136e8f32-0012-46f1-83fa-d4ad8884fc55",
   "metadata": {},
   "outputs": [],
   "source": [
    "bacon = 22"
   ]
  },
  {
   "cell_type": "code",
   "execution_count": 2,
   "id": "356a76e8-a39d-4be4-a44e-4bd2232235c9",
   "metadata": {},
   "outputs": [
    {
     "data": {
      "text/plain": [
       "22"
      ]
     },
     "execution_count": 2,
     "metadata": {},
     "output_type": "execute_result"
    }
   ],
   "source": [
    "bacon"
   ]
  },
  {
   "cell_type": "code",
   "execution_count": 3,
   "id": "9bdbc31b-df0b-4016-84c5-f2a20c1b1100",
   "metadata": {},
   "outputs": [
    {
     "data": {
      "text/plain": [
       "23"
      ]
     },
     "execution_count": 3,
     "metadata": {},
     "output_type": "execute_result"
    }
   ],
   "source": [
    "bacon + 1"
   ]
  },
  {
   "cell_type": "markdown",
   "id": "76deae83-f7db-4898-a25d-528851355792",
   "metadata": {},
   "source": [
    "So after running the above codes, initially bacon is assigned value = 22 so it gave 22. Then we add 1 to bacon. So it gave bacon=23."
   ]
  },
  {
   "cell_type": "markdown",
   "id": "141a7d78-233f-4b1d-b397-6a3d12d69f6d",
   "metadata": {},
   "source": [
    "7. What should the values of the following two terms be?\n",
    "\n",
    "'spam' + 'spamspam'\n",
    "'spam' * 3"
   ]
  },
  {
   "cell_type": "code",
   "execution_count": 4,
   "id": "56fccbb0-ffc4-47d4-bf2c-6dc173e61ac0",
   "metadata": {},
   "outputs": [
    {
     "data": {
      "text/plain": [
       "'spamspamspam'"
      ]
     },
     "execution_count": 4,
     "metadata": {},
     "output_type": "execute_result"
    }
   ],
   "source": [
    "'spam' + 'spamspam'"
   ]
  },
  {
   "cell_type": "code",
   "execution_count": 5,
   "id": "a6782288-6479-471b-9ec5-38ca35f5c393",
   "metadata": {},
   "outputs": [
    {
     "data": {
      "text/plain": [
       "'spamspamspam'"
      ]
     },
     "execution_count": 5,
     "metadata": {},
     "output_type": "execute_result"
    }
   ],
   "source": [
    "'spam' * 3"
   ]
  },
  {
   "cell_type": "markdown",
   "id": "8ee7ce05-3c5a-4f35-9e48-c1a7b293c4ca",
   "metadata": {},
   "source": [
    "8. Why is eggs a valid variable name while 100 is invalid?\n",
    "\n",
    "In Python, variable names must follow certain rules and conventions. The main reasons why eggs is a valid variable name while 100 is invalid are as follows:\n",
    "\n",
    "*) Variable names cannot start with a digit: In Python, variable names must begin with a letter (a-z, A-Z) or an underscore (_). They cannot start with a digit (0-9). Therefore, eggs is a valid variable name as it starts with a letter, but 100 is invalid because it starts with a digit.\n",
    "\n",
    "*) Variable names cannot be solely comprised of digits: Variable names should be descriptive and meaningful. They cannot consist only of digits. Python treats such names as numeric literals rather than variable names. Hence, 100 is not a valid variable name."
   ]
  },
  {
   "cell_type": "markdown",
   "id": "bee73441-141a-4bcd-bbe0-f32b0ec2f549",
   "metadata": {},
   "source": [
    "9. What three functions can be used to get the integer, floating-point number, or string\n",
    "version of a value?\n",
    "\n",
    "*) String(str) function\n",
    "\n",
    "*) Float(float) function\n",
    "\n",
    "*) Integer(int) function"
   ]
  },
  {
   "cell_type": "markdown",
   "id": "51ee5b0a-7218-4e75-827a-9e80aa3469f8",
   "metadata": {},
   "source": [
    "10. Why does this expression cause an error? How can you fix it?\n",
    "\n",
    "'I have eaten'+ 99 +'burritos.'"
   ]
  },
  {
   "cell_type": "markdown",
   "id": "3fc0de92-ceb0-4d2d-9aa5-8eaa7f16d764",
   "metadata": {},
   "source": [
    "The expression 'I have eaten'+ 99 +'burritos.' causes an error because you are trying to concatenate a string ('I have eaten') with an integer (99) without converting the integer to a string. To fix the error, you need to convert the integer into a string before concatenating it. One way to do this is by using the str() function. Here's an example of how to fix the expression:"
   ]
  },
  {
   "cell_type": "code",
   "execution_count": 6,
   "id": "fb8dc404-7bf1-41a4-92b6-84902aad2fbd",
   "metadata": {},
   "outputs": [
    {
     "data": {
      "text/plain": [
       "'I have eaten 99 burritos.'"
      ]
     },
     "execution_count": 6,
     "metadata": {},
     "output_type": "execute_result"
    }
   ],
   "source": [
    "'I have eaten ' + str(99) + ' burritos.'"
   ]
  },
  {
   "cell_type": "code",
   "execution_count": null,
   "id": "de197be2-0109-45cc-8354-1c083962d3d4",
   "metadata": {},
   "outputs": [],
   "source": []
  }
 ],
 "metadata": {
  "kernelspec": {
   "display_name": "Python 3 (ipykernel)",
   "language": "python",
   "name": "python3"
  },
  "language_info": {
   "codemirror_mode": {
    "name": "ipython",
    "version": 3
   },
   "file_extension": ".py",
   "mimetype": "text/x-python",
   "name": "python",
   "nbconvert_exporter": "python",
   "pygments_lexer": "ipython3",
   "version": "3.10.6"
  }
 },
 "nbformat": 4,
 "nbformat_minor": 5
}
